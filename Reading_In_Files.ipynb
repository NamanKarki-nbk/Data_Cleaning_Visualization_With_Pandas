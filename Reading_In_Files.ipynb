{
 "cells": [
  {
   "cell_type": "code",
   "execution_count": null,
   "id": "d0d013f1",
   "metadata": {},
   "outputs": [],
   "source": [
    "import pandas as pd"
   ]
  },
  {
   "cell_type": "code",
   "execution_count": null,
   "id": "b268a823",
   "metadata": {},
   "outputs": [],
   "source": [
    "df=pd.read_csv(r'D:\\Data_Cleaning_isulaization_With _Pandas\\datasets\\countries of the world.csv')\n",
    "df"
   ]
  },
  {
   "cell_type": "code",
   "execution_count": null,
   "id": "7b172604",
   "metadata": {},
   "outputs": [],
   "source": [
    "# df=pd.read_csv(r'D:\\Data_Cleaning_isulaization_With _Pandas\\datasets\\countries of the world.txt', sep = '\\t')\n",
    "# df\n",
    "df=pd.read_table(r\"D:\\Data_Cleaning_isulaization_With _Pandas\\datasets\\countries of the world.txt\", sep='\\t')\n",
    "df"
   ]
  },
  {
   "cell_type": "code",
   "execution_count": null,
   "id": "dc6cf99b",
   "metadata": {},
   "outputs": [],
   "source": [
    "df=pd.read_json(r\"D:\\Data_Cleaning_isulaization_With _Pandas\\datasets\\json_sample.json\")\n",
    "df"
   ]
  },
  {
   "cell_type": "code",
   "execution_count": null,
   "id": "8168b01d",
   "metadata": {},
   "outputs": [],
   "source": [
    "df2=pd.read_excel(r\"D:\\Data_Cleaning_isulaization_With _Pandas\\datasets\\world_population_excel_workbook.xlsx\", sheet_name =\"Sheet1\")\n",
    "df2"
   ]
  },
  {
   "cell_type": "code",
   "execution_count": null,
   "id": "1ee5b1bb",
   "metadata": {},
   "outputs": [],
   "source": [
    "pd.set_option('display.max.rows', 235)\n",
    "pd.set_option('display.max.columns', 40)"
   ]
  },
  {
   "cell_type": "code",
   "execution_count": null,
   "id": "0d2d4424",
   "metadata": {},
   "outputs": [],
   "source": [
    "df2.info()"
   ]
  },
  {
   "cell_type": "code",
   "execution_count": null,
   "id": "c2421c42",
   "metadata": {},
   "outputs": [],
   "source": [
    "df2.shape"
   ]
  },
  {
   "cell_type": "code",
   "execution_count": null,
   "id": "502a105e",
   "metadata": {},
   "outputs": [],
   "source": [
    "df2.head(10)"
   ]
  },
  {
   "cell_type": "code",
   "execution_count": null,
   "id": "4a1fefda",
   "metadata": {},
   "outputs": [],
   "source": [
    "df2.tail(10)"
   ]
  },
  {
   "cell_type": "code",
   "execution_count": null,
   "id": "8a47f329",
   "metadata": {},
   "outputs": [],
   "source": [
    "df2['Rank']"
   ]
  },
  {
   "cell_type": "code",
   "execution_count": 19,
   "id": "2302a192",
   "metadata": {},
   "outputs": [
    {
     "data": {
      "text/plain": [
       "Rank               43\n",
       "CCA3              UZB\n",
       "Country    Uzbekistan\n",
       "Capital      Tashkent\n",
       "Name: 224, dtype: object"
      ]
     },
     "execution_count": 19,
     "metadata": {},
     "output_type": "execute_result"
    }
   ],
   "source": [
    "df2.loc[224]"
   ]
  },
  {
   "cell_type": "code",
   "execution_count": 20,
   "id": "6b61a65a",
   "metadata": {},
   "outputs": [
    {
     "data": {
      "text/plain": [
       "Rank               43\n",
       "CCA3              UZB\n",
       "Country    Uzbekistan\n",
       "Capital      Tashkent\n",
       "Name: 224, dtype: object"
      ]
     },
     "execution_count": 20,
     "metadata": {},
     "output_type": "execute_result"
    }
   ],
   "source": [
    "df2.iloc[224]"
   ]
  }
 ],
 "metadata": {
  "kernelspec": {
   "display_name": "venv",
   "language": "python",
   "name": "python3"
  },
  "language_info": {
   "codemirror_mode": {
    "name": "ipython",
    "version": 3
   },
   "file_extension": ".py",
   "mimetype": "text/x-python",
   "name": "python",
   "nbconvert_exporter": "python",
   "pygments_lexer": "ipython3",
   "version": "3.13.1"
  }
 },
 "nbformat": 4,
 "nbformat_minor": 5
}
